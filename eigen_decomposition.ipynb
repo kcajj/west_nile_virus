{
 "cells": [
  {
   "cell_type": "markdown",
   "id": "6a302f54-e85c-442e-ac8c-f102c568c123",
   "metadata": {},
   "source": [
    "## Eigendecomposition of a stochastic matrix\n",
    "\n",
    "We are looking at system like\n",
    "$$\n",
    "\\dot{p} = M p\n",
    "$$\n",
    "where $M$ is a transition matrix with $M_{ii} = -\\sum_{j\\neq i} M_{ji}$"
   ]
  },
  {
   "cell_type": "code",
   "execution_count": 4,
   "id": "180500bd-f3a5-48b3-a39f-9345f9647077",
   "metadata": {
    "tags": []
   },
   "outputs": [
    {
     "name": "stdout",
     "output_type": "stream",
     "text": [
      "[[-0.7  0.1  0.3  0.2]\n",
      " [ 0.2 -0.7  0.3  0.4]\n",
      " [ 0.4  0.3 -0.8  0.2]\n",
      " [ 0.1  0.3  0.2 -0.8]]\n"
     ]
    }
   ],
   "source": [
    "import numpy as np\n",
    "M = np.array([[0, 0.1, 0.3, 0.2], [0.2, 0, 0.3, 0.4], [0.4, 0.3, 0, 0.2], [0.1, 0.3, 0.2, 0]])\n",
    "for i in range(M.shape[0]):\n",
    "    M[i, i] = -M[:,i].sum()\n",
    "print(M)"
   ]
  },
  {
   "cell_type": "markdown",
   "id": "dd056448-ff02-4bc6-b7cb-f9aa82f6fcb0",
   "metadata": {},
   "source": [
    "We want to express an initial condition $p_0$ in terms of right eigen vectors $v_i$ of $M$ as\n",
    "$$\n",
    "p_0 = \\sum_i a_i v_i\n",
    "$$\n",
    "To this end, we use the fact that left $w_j$ and right $v_i$ eigenvectors are orthogonal, that is $w_j v_i = c_j \\delta_{ij}$.\n"
   ]
  },
  {
   "cell_type": "code",
   "execution_count": 5,
   "id": "a646359f-9478-45e1-95e1-5539673161fd",
   "metadata": {
    "tags": []
   },
   "outputs": [
    {
     "name": "stdout",
     "output_type": "stream",
     "text": [
      "[ 0.         -0.76972244 -1.13027756 -1.1       ]\n",
      "[[ 4.33990837e-01  6.36953497e-01 -4.53212261e-01  4.08248290e-01]\n",
      " [ 5.91054188e-01 -4.88920332e-01 -1.96811297e-01  3.14698687e-15]\n",
      " [ 5.41455235e-01  3.40887167e-01  8.46834856e-01 -8.16496581e-01]\n",
      " [ 4.11257984e-01 -4.88920332e-01 -1.96811297e-01  4.08248290e-01]]\n",
      "[[-0.5        -0.76034562  0.12221289  0.06375767]\n",
      " [-0.5         0.51041449  0.65236746 -0.63757671]\n",
      " [-0.5        -0.20850718 -0.28472945  0.06375767]\n",
      " [-0.5         0.34333125 -0.69167178  0.76509206]]\n",
      "[-0.989  0.     0.    -0.   ]\n",
      "[-0.    -0.973 -0.     0.   ]\n",
      "[-0.     0.    -0.289 -0.   ]\n",
      "[ 0.    -0.     0.     0.286]\n"
     ]
    }
   ],
   "source": [
    "ev, rv = np.linalg.eig(M)\n",
    "ev2, lv = np.linalg.eig(M.T)\n",
    "\n",
    "print(ev)\n",
    "print(rv)\n",
    "print(lv)\n",
    "\n",
    "for i in range(len(ev)):\n",
    "    tmp = []\n",
    "    for j in range(len(ev)):\n",
    "        tmp.append(np.dot(lv[:,j], rv[:,i]))\n",
    "    print(np.round(tmp,3))"
   ]
  },
  {
   "cell_type": "markdown",
   "id": "4ec23aab-e48d-4a31-a9fa-ade9068be9a1",
   "metadata": {},
   "source": [
    "We will determine the coefficients $a_i$ via\n",
    "$$\n",
    "w_j p_0 = w_j \\sum_i a_i v_i = \\sum_i a_i w_j v_i = a_j c_j \\quad \\Rightarrow a_j = \\frac{w_j p_0}{c_j} = \\frac{w_j p_0}{w_j v_j}\n",
    "$$"
   ]
  },
  {
   "cell_type": "code",
   "execution_count": 7,
   "id": "d3c47884-c579-459e-b556-eb2f5e2f7323",
   "metadata": {
    "tags": []
   },
   "outputs": [
    {
     "name": "stdout",
     "output_type": "stream",
     "text": [
      "[0.5056229715393122, 0.32779217029422236, 0.7041583477198096, 0.9575278085425317]\n",
      "[0.5 0.  0.2 0.3] [0.5, 0, 0.2, 0.3]\n"
     ]
    }
   ],
   "source": [
    "def eigen_projection(p, lv, rv):\n",
    "    return [np.dot(w,p)/np.dot(w,v) for w,v in zip(lv.T,rv.T)]\n",
    "\n",
    "p = [0.5,0,.2,.30]\n",
    "a = eigen_projection(p, lv, rv)\n",
    "print(a)\n",
    "\n",
    "reconstruction = np.sum([a[i]*v for i, v in enumerate(rv.T)], axis=0)\n",
    "print(np.round(reconstruction, 3), p)\n"
   ]
  },
  {
   "cell_type": "markdown",
   "id": "01b39fe0-c817-4526-b11e-eeddcb1612c0",
   "metadata": {},
   "source": [
    "Time depending solution for $p$\n",
    "\n",
    "$$\n",
    "p(t) = \\sum_i a_i e^{\\lambda_i t} v_i\n",
    "$$\n",
    "\n"
   ]
  },
  {
   "cell_type": "code",
   "execution_count": 8,
   "id": "2f03e6c6-8ed1-4da8-938e-108596cf6986",
   "metadata": {
    "tags": []
   },
   "outputs": [
    {
     "data": {
      "text/plain": [
       "<matplotlib.legend.Legend at 0x1419976edd0>"
      ]
     },
     "execution_count": 8,
     "metadata": {},
     "output_type": "execute_result"
    },
    {
     "data": {
      "image/png": "[encoded data removed]",
      "text/plain": [
       "<Figure size 640x480 with 1 Axes>"
      ]
     },
     "metadata": {},
     "output_type": "display_data"
    }
   ],
   "source": [
    "import matplotlib.pyplot as plt\n",
    "\n",
    "def p_of_t(t, a, ev, rv):\n",
    "    return np.sum([a[i]*np.exp(ev[i]*t)*v for i, v in enumerate(rv.T)], axis=0)\n",
    "\n",
    "t = np.linspace(0, 5, 100)\n",
    "p0 = [0,1,0,0]\n",
    "a = eigen_projection(p0, lv, rv)\n",
    "plt.plot(t, [p_of_t(ti, a, ev, rv) for ti in t])\n",
    "plt.legend([\"A\",\"C\",\"T\",\"G\"])"
   ]
  },
  {
   "cell_type": "code",
   "execution_count": null,
   "id": "82cd9a2f-e71f-42ac-a6b6-1b504fcd3025",
   "metadata": {},
   "outputs": [],
   "source": []
  }
 ],
 "metadata": {
  "kernelspec": {
   "display_name": "Python 3 (ipykernel)",
   "language": "python",
   "name": "python3"
  },
  "language_info": {
   "codemirror_mode": {
    "name": "ipython",
    "version": 3
   },
   "file_extension": ".py",
   "mimetype": "text/x-python",
   "name": "python",
   "nbconvert_exporter": "python",
   "pygments_lexer": "ipython3",
   "version": "3.10.2"
  }
 },
 "nbformat": 4,
 "nbformat_minor": 5
}
